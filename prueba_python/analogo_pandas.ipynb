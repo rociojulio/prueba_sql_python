{
 "cells": [
  {
   "cell_type": "code",
   "execution_count": 23,
   "metadata": {},
   "outputs": [],
   "source": [
    "import pandas as pd\n",
    "import numpy as np"
   ]
  },
  {
   "cell_type": "code",
   "execution_count": null,
   "metadata": {},
   "outputs": [],
   "source": [
    "df_tasas_productos = pd.read_excel('./datos/tasas_productos.xlsx')\n",
    "df_obligaciones_clientes = pd.read_excel('./datos/obligaciones_clientes.xlsx')"
   ]
  },
  {
   "cell_type": "code",
   "execution_count": 24,
   "metadata": {},
   "outputs": [],
   "source": [
    "merged_df = df_obligaciones_clientes.merge(df_tasas_productos, \n",
    "                                           left_on=['cod_segm_tasa', 'cod_subsegm_tasa', 'cal_interna_tasa'], \n",
    "                                           right_on=['cod_segmento', 'cod_subsegmento', 'calificacion_riesgos'])\n"
   ]
  },
  {
   "cell_type": "code",
   "execution_count": 25,
   "metadata": {},
   "outputs": [],
   "source": [
    "def obtener_tasa(row):\n",
    "    if 'cartera' in row['id_producto'] and 'leasing' not in row['id_producto']:\n",
    "        return row['tasa_cartera']\n",
    "    elif 'operacion_especifica' in row['id_producto']:\n",
    "        return row['tasa_operacion_especifica']\n",
    "    elif 'hipotecario' in row['id_producto']:\n",
    "        return row['tasa_hipotecario']\n",
    "    elif 'leasing' in row['id_producto']:\n",
    "        return row['tasa_leasing']\n",
    "    elif 'sufi' in row['id_producto']:\n",
    "        return row['tasa_sufi']\n",
    "    elif 'factoring' in row['id_producto']:\n",
    "        return row['tasa_factoring']\n",
    "    elif 'tarjeta' in row['id_producto']:\n",
    "        return row['tasa_tarjeta']\n",
    "    else:\n",
    "        return 0"
   ]
  },
  {
   "cell_type": "code",
   "execution_count": 26,
   "metadata": {},
   "outputs": [],
   "source": [
    "\n",
    "def obtener_valor_periodicidad(periodicidad):\n",
    "    if periodicidad == 'MENSUAL':\n",
    "        return 12\n",
    "    elif periodicidad == 'BIMENSUAL':\n",
    "        return 6\n",
    "    elif periodicidad == 'TRIMESTRAL':\n",
    "        return 4\n",
    "    elif periodicidad == 'SEMESTRAL':\n",
    "        return 2\n",
    "    elif periodicidad == 'ANUAL':\n",
    "        return 1\n",
    "    else:\n",
    "        return 1"
   ]
  },
  {
   "cell_type": "code",
   "execution_count": 27,
   "metadata": {},
   "outputs": [],
   "source": [
    "\n",
    "    \n",
    "def calcular_tasa_efectiva(row):\n",
    "    return (1 + row['tasa'])**(1 / obtener_valor_periodicidad(row['periodicidad'])) - 1"
   ]
  },
  {
   "cell_type": "code",
   "execution_count": 28,
   "metadata": {},
   "outputs": [],
   "source": [
    "def calcular_valor_final(row):\n",
    "    return np.power(1 + row['tasa_efectiva'], row['plazo']) * row['valor_inicial']"
   ]
  },
  {
   "cell_type": "code",
   "execution_count": 29,
   "metadata": {},
   "outputs": [
    {
     "name": "stderr",
     "output_type": "stream",
     "text": [
      "C:\\Users\\Rocío\\AppData\\Local\\Temp\\ipykernel_23460\\2228733901.py:2: RuntimeWarning: overflow encountered in power\n",
      "  return np.power(1 + row['tasa_efectiva'], row['plazo']) * row['valor_inicial']\n"
     ]
    }
   ],
   "source": [
    "merged_df['tasa'] = merged_df.apply(obtener_tasa, axis=1)\n",
    "\n",
    "\n",
    "merged_df['tasa_efectiva'] = merged_df.apply(calcular_tasa_efectiva, axis=1)\n",
    "merged_df['valor_final'] = merged_df.apply(calcular_valor_final, axis=1)\n",
    "\n",
    "final_df = merged_df[['radicado', 'num_documento', 'id_producto', 'valor_inicial', 'tasa', 'periodicidad', 'tasa_efectiva', 'valor_final']]"
   ]
  },
  {
   "cell_type": "code",
   "execution_count": null,
   "metadata": {},
   "outputs": [],
   "source": [
    "final_df"
   ]
  },
  {
   "cell_type": "code",
   "execution_count": 32,
   "metadata": {},
   "outputs": [
    {
     "data": {
      "text/html": [
       "<div>\n",
       "<style scoped>\n",
       "    .dataframe tbody tr th:only-of-type {\n",
       "        vertical-align: middle;\n",
       "    }\n",
       "\n",
       "    .dataframe tbody tr th {\n",
       "        vertical-align: top;\n",
       "    }\n",
       "\n",
       "    .dataframe thead th {\n",
       "        text-align: right;\n",
       "    }\n",
       "</style>\n",
       "<table border=\"1\" class=\"dataframe\">\n",
       "  <thead>\n",
       "    <tr style=\"text-align: right;\">\n",
       "      <th></th>\n",
       "      <th>num_documento</th>\n",
       "      <th>suma_valor_final</th>\n",
       "      <th>cantidad_productos</th>\n",
       "    </tr>\n",
       "  </thead>\n",
       "  <tbody>\n",
       "    <tr>\n",
       "      <th>0</th>\n",
       "      <td>3907738</td>\n",
       "      <td>4.681834e+05</td>\n",
       "      <td>8</td>\n",
       "    </tr>\n",
       "    <tr>\n",
       "      <th>1</th>\n",
       "      <td>4234923</td>\n",
       "      <td>1.027217e+06</td>\n",
       "      <td>8</td>\n",
       "    </tr>\n",
       "    <tr>\n",
       "      <th>2</th>\n",
       "      <td>4935132</td>\n",
       "      <td>1.201929e+06</td>\n",
       "      <td>7</td>\n",
       "    </tr>\n",
       "    <tr>\n",
       "      <th>3</th>\n",
       "      <td>7061608</td>\n",
       "      <td>1.382985e+06</td>\n",
       "      <td>4</td>\n",
       "    </tr>\n",
       "    <tr>\n",
       "      <th>4</th>\n",
       "      <td>7099543</td>\n",
       "      <td>1.088517e+06</td>\n",
       "      <td>6</td>\n",
       "    </tr>\n",
       "    <tr>\n",
       "      <th>...</th>\n",
       "      <td>...</td>\n",
       "      <td>...</td>\n",
       "      <td>...</td>\n",
       "    </tr>\n",
       "    <tr>\n",
       "      <th>242</th>\n",
       "      <td>1339938146</td>\n",
       "      <td>2.989122e+05</td>\n",
       "      <td>2</td>\n",
       "    </tr>\n",
       "    <tr>\n",
       "      <th>243</th>\n",
       "      <td>1342616595</td>\n",
       "      <td>5.456629e+05</td>\n",
       "      <td>6</td>\n",
       "    </tr>\n",
       "    <tr>\n",
       "      <th>244</th>\n",
       "      <td>1344463827</td>\n",
       "      <td>1.036454e+06</td>\n",
       "      <td>4</td>\n",
       "    </tr>\n",
       "    <tr>\n",
       "      <th>245</th>\n",
       "      <td>1346212202</td>\n",
       "      <td>1.678844e+06</td>\n",
       "      <td>5</td>\n",
       "    </tr>\n",
       "    <tr>\n",
       "      <th>246</th>\n",
       "      <td>1353932845</td>\n",
       "      <td>2.592119e+06</td>\n",
       "      <td>15</td>\n",
       "    </tr>\n",
       "  </tbody>\n",
       "</table>\n",
       "<p>247 rows × 3 columns</p>\n",
       "</div>"
      ],
      "text/plain": [
       "     num_documento  suma_valor_final  cantidad_productos\n",
       "0          3907738      4.681834e+05                   8\n",
       "1          4234923      1.027217e+06                   8\n",
       "2          4935132      1.201929e+06                   7\n",
       "3          7061608      1.382985e+06                   4\n",
       "4          7099543      1.088517e+06                   6\n",
       "..             ...               ...                 ...\n",
       "242     1339938146      2.989122e+05                   2\n",
       "243     1342616595      5.456629e+05                   6\n",
       "244     1344463827      1.036454e+06                   4\n",
       "245     1346212202      1.678844e+06                   5\n",
       "246     1353932845      2.592119e+06                  15\n",
       "\n",
       "[247 rows x 3 columns]"
      ]
     },
     "execution_count": 32,
     "metadata": {},
     "output_type": "execute_result"
    }
   ],
   "source": [
    "df_sumas_clientes = merged_df.groupby('num_documento').agg(\n",
    "    suma_valor_final=('valor_final', 'sum'),\n",
    "    cantidad_productos=('id_producto', 'nunique')\n",
    ")\n",
    "\n",
    "df_sumas_clientes = df_sumas_clientes[df_sumas_clientes['cantidad_productos'] >= 2]\n",
    "\n",
    "df_sumas_clientes.reset_index(inplace=True)\n",
    "\n",
    "df_sumas_clientes"
   ]
  }
 ],
 "metadata": {
  "kernelspec": {
   "display_name": "venv",
   "language": "python",
   "name": "python3"
  },
  "language_info": {
   "codemirror_mode": {
    "name": "ipython",
    "version": 3
   },
   "file_extension": ".py",
   "mimetype": "text/x-python",
   "name": "python",
   "nbconvert_exporter": "python",
   "pygments_lexer": "ipython3",
   "version": "3.11.3"
  }
 },
 "nbformat": 4,
 "nbformat_minor": 2
}
